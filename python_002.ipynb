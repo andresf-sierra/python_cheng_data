{
  "nbformat": 4,
  "nbformat_minor": 0,
  "metadata": {
    "colab": {
      "provenance": [],
      "authorship_tag": "ABX9TyM8YZjengbjel2z6j3Qpdlg"
    },
    "kernelspec": {
      "name": "python3",
      "display_name": "Python 3"
    },
    "language_info": {
      "name": "python"
    }
  },
  "cells": [
    {
      "cell_type": "markdown",
      "source": [
        "# **Introducción y Conceptos Básicos de Python**\n",
        "\n",
        "![logo](https://drive.google.com/uc?id=1w_6USra7FC_63pIQ0gPgeRkHGbeoZe3m)\n",
        "\n",
        "####  ***Ing. Andrés F. Sierra***\n"
      ],
      "metadata": {
        "id": "FUGnVzfshFbj"
      }
    },
    {
      "cell_type": "markdown",
      "source": [
        "# 3) Estructuras de Flujo"
      ],
      "metadata": {
        "id": "-Kj-wh41VcX_"
      }
    },
    {
      "cell_type": "markdown",
      "source": [
        "## `if`, `elif`, `else` statement"
      ],
      "metadata": {
        "id": "i2KNt2I9V1HV"
      }
    },
    {
      "cell_type": "code",
      "execution_count": 1,
      "metadata": {
        "id": "O47nKj_4hArr",
        "colab": {
          "base_uri": "https://localhost:8080/"
        },
        "outputId": "a6cee786-4b6d-4273-a6ef-148752cfe5dd"
      },
      "outputs": [
        {
          "output_type": "stream",
          "name": "stdout",
          "text": [
            "Ellipsis\n"
          ]
        }
      ],
      "source": [
        "if True:\n",
        "  print(...)\n",
        "\n",
        "if False:\n",
        "  print(...)"
      ]
    },
    {
      "cell_type": "code",
      "source": [
        "numero = ...\n",
        "\n",
        "if ...:\n",
        "    print(\"Es mayor a 5\")\n",
        "elif ...:\n",
        "    print(\"Es igual a 5\")\n",
        "else:\n",
        "    print(\"Es menor a 5\")  "
      ],
      "metadata": {
        "id": "QXwY6nQLV3nK"
      },
      "execution_count": null,
      "outputs": []
    },
    {
      "cell_type": "markdown",
      "source": [
        "**Ejemplo:**\n",
        "\n",
        "Crearemos un programa que nos indicará si la cantidad de producto que hay en stock requiere hacer una solcitud de compra o no.\n",
        "Condiciones:\n",
        "\n",
        "- Si el producto es stock es mayor o igual a 100 y menos o igual a 1000, no necesitamos generar una solicitud de compra\n",
        "- Si el producto no cumple las condiciones, generar una solicitud de compra"
      ],
      "metadata": {
        "id": "rlN1KacQV-_h"
      }
    },
    {
      "cell_type": "code",
      "source": [
        "#Input del stock \n",
        "stock = \n",
        "\n",
        "#If-Else \n",
        "if ...:\n",
        "  pass\n",
        "\n",
        "else:\n",
        "  pass"
      ],
      "metadata": {
        "id": "-Ui_-Rp2WCxD"
      },
      "execution_count": null,
      "outputs": []
    },
    {
      "cell_type": "markdown",
      "source": [
        "## Bucle (Loops)"
      ],
      "metadata": {
        "id": "OIAfUKlNWFWw"
      }
    },
    {
      "cell_type": "markdown",
      "source": [
        "### `for` loops"
      ],
      "metadata": {
        "id": "lLzpR42EWKSQ"
      }
    },
    {
      "cell_type": "code",
      "source": [
        "for elemento in secuencia:\n",
        "    # Código a repetir para cada elemento"
      ],
      "metadata": {
        "id": "WR1BsxPDWJsL"
      },
      "execution_count": null,
      "outputs": []
    },
    {
      "cell_type": "markdown",
      "source": [
        "**Ejemplo:** Contamos con una secuencia de temperaturas medidas por un sistema de control de un *boiler* cada cierto tiempo durante todo el proceso realizado durante el día.\n",
        "\n",
        "Temperaturas -> 70, 68, 89, 93, 87, 45, 36, 56, 49\n",
        "\n",
        "- Cree una lista con los temperaturas dadas, `temp_boiler`\n",
        "- Luego, uso un `for` loop para recorrer cada temperatura dentro de la lista\n",
        "- Use un `if` para cumplir la condición de que sean solo las temperaturas mayores a 70°C \n",
        "- Por último, con la función `print()` muestre los elementos mayores a 70°C"
      ],
      "metadata": {
        "id": "MtvqWVL6WMwy"
      }
    },
    {
      "cell_type": "code",
      "source": [
        "temp_boiler = [...]\n",
        "\n",
        "for ... in ...:\n",
        "  if ...:\n",
        "    print()"
      ],
      "metadata": {
        "id": "Y2H3MqnyWPka"
      },
      "execution_count": null,
      "outputs": []
    },
    {
      "cell_type": "markdown",
      "source": [
        "### `while` loops"
      ],
      "metadata": {
        "id": "Ib4xoF-OWTs_"
      }
    },
    {
      "cell_type": "code",
      "source": [
        "while condicion:\n",
        "    # Código a repetir mientras se cumpla la condición"
      ],
      "metadata": {
        "id": "EL8xuxPHWUKd"
      },
      "execution_count": null,
      "outputs": []
    },
    {
      "cell_type": "markdown",
      "source": [
        "**Ejemplo:**\n",
        "- Inicializa el contador en 0, `counter`\n",
        "- Crea un ciclo `while` y mientras en contador sea menor que 10, suma 1 al contador e imprime el contador con la función `print()`"
      ],
      "metadata": {
        "id": "qN6FIp8dWZsD"
      }
    },
    {
      "cell_type": "code",
      "source": [
        "#Inicia el contador en 0\n",
        "counter = \n",
        "\n",
        "#Mientras que el contador sea menor a 10, suma al contador +1\n",
        "while ...:\n",
        "  counter = ...\n",
        "  print(counter)"
      ],
      "metadata": {
        "id": "vDq-ZMOnWag6"
      },
      "execution_count": null,
      "outputs": []
    }
  ]
}
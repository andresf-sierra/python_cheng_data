{
  "nbformat": 4,
  "nbformat_minor": 0,
  "metadata": {
    "colab": {
      "provenance": [],
      "authorship_tag": "ABX9TyNh+UKy0XSI5AW/UHABKByO"
    },
    "kernelspec": {
      "name": "python3",
      "display_name": "Python 3"
    },
    "language_info": {
      "name": "python"
    }
  },
  "cells": [
    {
      "cell_type": "markdown",
      "source": [
        "# **Introducción y Conceptos Básicos de Python**\n",
        "\n",
        "![logo](https://drive.google.com/uc?id=1w_6USra7FC_63pIQ0gPgeRkHGbeoZe3m)\n",
        "\n",
        "####  ***Ing. Andrés F. Sierra***\n"
      ],
      "metadata": {
        "id": "FUGnVzfshFbj"
      }
    },
    {
      "cell_type": "markdown",
      "source": [
        "# 3) Operadores Relacionales y Lógicos"
      ],
      "metadata": {
        "id": "zKw7Kw8GlPtk"
      }
    },
    {
      "cell_type": "markdown",
      "source": [
        "| Operador | Nombre               |\n",
        "|----------|----------------------|\n",
        "| ==       | Igual a              |\n",
        "| !=       | Diferente de         |\n",
        "| >        | Mayor que            |\n",
        "| <        | Menor que            |\n",
        "| >=       | Mayor o igual que    |\n",
        "| <=       | Menor o igual que    |\n"
      ],
      "metadata": {
        "id": "kn99GWvalVTs"
      }
    },
    {
      "cell_type": "markdown",
      "source": [
        "**Ejemplo:** Asignaremos a `a` y `b` dos valores cualesquiera y usaremos los operadores relaciones."
      ],
      "metadata": {
        "id": "RcNukyPPx-85"
      }
    },
    {
      "cell_type": "code",
      "source": [
        "#Realiza el ejercicio aquí\n",
        "a, b = "
      ],
      "metadata": {
        "id": "QxyzMIzGoyZW"
      },
      "execution_count": null,
      "outputs": []
    },
    {
      "cell_type": "markdown",
      "source": [
        "Los operadores lógicos son `and`, `or` o `not`."
      ],
      "metadata": {
        "id": "eS8LtYTlzB76"
      }
    },
    {
      "cell_type": "code",
      "source": [
        "#and\n",
        "\n",
        "#or\n",
        "\n",
        "#not"
      ],
      "metadata": {
        "id": "EJjzX51tzStX"
      },
      "execution_count": null,
      "outputs": []
    },
    {
      "cell_type": "markdown",
      "source": [
        "# 4) Estructuras de Flujo"
      ],
      "metadata": {
        "id": "-Kj-wh41VcX_"
      }
    },
    {
      "cell_type": "markdown",
      "source": [
        "## `if`, `elif`, `else` statement"
      ],
      "metadata": {
        "id": "i2KNt2I9V1HV"
      }
    },
    {
      "cell_type": "code",
      "execution_count": null,
      "metadata": {
        "id": "O47nKj_4hArr"
      },
      "outputs": [],
      "source": [
        "if True:\n",
        "  print(...)\n",
        "\n",
        "if False:\n",
        "  print(...)"
      ]
    },
    {
      "cell_type": "code",
      "source": [
        "numero = ...\n",
        "\n",
        "if ...:\n",
        "    print(\"\")\n",
        "elif ...:\n",
        "    print(\"\")\n",
        "else:\n",
        "    print(\"\")  "
      ],
      "metadata": {
        "id": "QXwY6nQLV3nK"
      },
      "execution_count": null,
      "outputs": []
    },
    {
      "cell_type": "markdown",
      "source": [
        "**Ejemplo:**\n",
        "\n",
        "Crearemos un programa que nos indicará si la cantidad de producto que hay en stock requiere hacer una solcitud de compra o no.\n",
        "Condiciones:\n",
        "\n",
        "- Si el producto es stock es mayor o igual a 100 y menos o igual a 1000, no necesitamos generar una solicitud de compra\n",
        "- Si el producto no cumple las condiciones, generar una solicitud de compra"
      ],
      "metadata": {
        "id": "rlN1KacQV-_h"
      }
    },
    {
      "cell_type": "code",
      "source": [
        "#Input del stock \n",
        "stock = \n",
        "\n",
        "#If-Else \n",
        "if ...:\n",
        "  pass\n",
        "\n",
        "else:\n",
        "  pass"
      ],
      "metadata": {
        "id": "-Ui_-Rp2WCxD"
      },
      "execution_count": null,
      "outputs": []
    },
    {
      "cell_type": "markdown",
      "source": [
        "## Bucle (Loops)"
      ],
      "metadata": {
        "id": "OIAfUKlNWFWw"
      }
    },
    {
      "cell_type": "markdown",
      "source": [
        "### `for` loops"
      ],
      "metadata": {
        "id": "lLzpR42EWKSQ"
      }
    },
    {
      "cell_type": "code",
      "source": [
        "for elemento in secuencia:\n",
        "    # Código a repetir para cada elemento"
      ],
      "metadata": {
        "id": "WR1BsxPDWJsL"
      },
      "execution_count": null,
      "outputs": []
    },
    {
      "cell_type": "markdown",
      "source": [
        "**Ejemplo:** Contamos con una secuencia de temperaturas medidas por un sistema de control de un *boiler* cada cierto tiempo durante todo el proceso realizado durante el día.\n",
        "\n",
        "Temperaturas -> 70, 68, 89, 93, 87, 45, 36, 56, 49\n",
        "\n",
        "- Cree una lista con los temperaturas dadas, `temp_boiler`\n",
        "- Luego, uso un `for` loop para recorrer cada temperatura dentro de la lista\n",
        "- Use un `if` para cumplir la condición de que sean solo las temperaturas mayores a 70°C \n",
        "- Por último, con la función `print()` muestre los elementos mayores a 70°C"
      ],
      "metadata": {
        "id": "MtvqWVL6WMwy"
      }
    },
    {
      "cell_type": "code",
      "source": [
        "temp_boiler = [...]\n",
        "\n",
        "for ... in ...:\n",
        "  if ...:\n",
        "    print()"
      ],
      "metadata": {
        "id": "Y2H3MqnyWPka"
      },
      "execution_count": null,
      "outputs": []
    },
    {
      "cell_type": "markdown",
      "source": [
        "**Ejemplo:** Supongamos que estás realizando un experimento en el laboratorio para determinar si una sustancia química se encuentra en estado sólido, líquido o gaseoso a una determinada temperatura. Se te proporciona la temperatura en grados Celsius y debes determinar el estado de la sustancia según las siguientes condiciones:\n",
        "\n",
        "- Si la temperatura es igual o inferior a 0 grados, la sustancia está en estado sólido.\n",
        "- Si la temperatura está entre 0 y 100 grados, ambos inclusive, la sustancia está en estado líquido.\n",
        "- Si la temperatura es superior a 100 grados, la sustancia está en estado gaseoso.\n",
        "\n",
        "Escribe un programa en Python que solicite al usuario ingresar una temperatura en grados Celsius y determine el estado de la sustancia utilizando operadores relacionales."
      ],
      "metadata": {
        "id": "tFsxTDTb8GUj"
      }
    },
    {
      "cell_type": "code",
      "source": [
        "#Usar un print con input\n",
        "temperatura = \n",
        "\n",
        "if ...:\n",
        "    print(\"El estado de la sustancia es ...\")\n",
        "elif ...:\n",
        "    print(\"El estado de la sustancia es ...\")\n",
        "else:\n",
        "    print(\"El estado de la sustancia es ...\")\n"
      ],
      "metadata": {
        "id": "W-v6DLSXx4mg"
      },
      "execution_count": null,
      "outputs": []
    },
    {
      "cell_type": "markdown",
      "source": [
        "### `while` loops"
      ],
      "metadata": {
        "id": "Ib4xoF-OWTs_"
      }
    },
    {
      "cell_type": "code",
      "source": [
        "while condicion:\n",
        "    # Código a repetir mientras se cumpla la condición"
      ],
      "metadata": {
        "id": "EL8xuxPHWUKd"
      },
      "execution_count": null,
      "outputs": []
    },
    {
      "cell_type": "markdown",
      "source": [
        "**Ejemplo:**\n",
        "- Inicializa el contador en 0, `counter`\n",
        "- Crea un ciclo `while` y mientras en contador sea menor que 10, suma 1 al contador e imprime el contador con la función `print()`"
      ],
      "metadata": {
        "id": "qN6FIp8dWZsD"
      }
    },
    {
      "cell_type": "code",
      "source": [
        "#Inicia el contador en 0\n",
        "counter = \n",
        "\n",
        "#Mientras que el contador sea menor a 10, suma al contador +1\n",
        "while ...:\n",
        "  counter = ...\n",
        "  print(counter)"
      ],
      "metadata": {
        "id": "vDq-ZMOnWag6"
      },
      "execution_count": null,
      "outputs": []
    },
    {
      "cell_type": "markdown",
      "source": [
        "# Checkpoint:"
      ],
      "metadata": {
        "id": "ej6e88gqnh-e"
      }
    },
    {
      "cell_type": "markdown",
      "source": [
        "**Ejercicio:** \n",
        "Considera que un estudiante sólo puede graduarse si cumple las siguientes condiciones \n",
        "- Haber superado el 70% en sus calificaciones\n",
        "- Tiene una asistencia superior al 90%\n",
        "- No haber plagiado ni una sola vez durante el curso"
      ],
      "metadata": {
        "id": "qBN4J2z98w9B"
      }
    },
    {
      "cell_type": "code",
      "source": [
        "grades = \n",
        "attendance =\n",
        "has_plagiarized = \n",
        "\n",
        "#print(not has_plagiarized)\n",
        "\n",
        "if has_plagiarized is True:\n",
        "  print(\"\")\n",
        "\n",
        "successfully_graduated = \n",
        "\n",
        "#print(successfully_graduated)\n",
        "\n",
        "if successfully_graduated is False:\n",
        "  print(\"\")\n",
        "else:\n",
        "  print(\"\")"
      ],
      "metadata": {
        "id": "1T0h1v80nkAn"
      },
      "execution_count": null,
      "outputs": []
    }
  ]
}
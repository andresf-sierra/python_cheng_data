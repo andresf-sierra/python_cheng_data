{
  "nbformat": 4,
  "nbformat_minor": 0,
  "metadata": {
    "colab": {
      "provenance": [],
      "authorship_tag": "ABX9TyO8LTIy0oha71VH+JYp28Tt"
    },
    "kernelspec": {
      "name": "python3",
      "display_name": "Python 3"
    },
    "language_info": {
      "name": "python"
    }
  },
  "cells": [
    {
      "cell_type": "markdown",
      "source": [
        "# **Introducción y Conceptos Básicos de Python**\n",
        "\n",
        "![logo](https://drive.google.com/uc?id=1w_6USra7FC_63pIQ0gPgeRkHGbeoZe3m)\n",
        "\n",
        "####  ***Ing. Andrés F. Sierra***\n"
      ],
      "metadata": {
        "id": "FUGnVzfshFbj"
      }
    },
    {
      "cell_type": "markdown",
      "source": [
        "# 3) Operadores Relacionales y Lógicos"
      ],
      "metadata": {
        "id": "zKw7Kw8GlPtk"
      }
    },
    {
      "cell_type": "markdown",
      "source": [
        "| Operador | Nombre               |\n",
        "|----------|----------------------|\n",
        "| ==       | Igual a              |\n",
        "| !=       | Diferente de         |\n",
        "| >        | Mayor que            |\n",
        "| <        | Menor que            |\n",
        "| >=       | Mayor o igual que    |\n",
        "| <=       | Menor o igual que    |\n"
      ],
      "metadata": {
        "id": "kn99GWvalVTs"
      }
    },
    {
      "cell_type": "markdown",
      "source": [
        "**Ejemplo:** Asignaremos a `a` y `b` dos valores cualesquiera y usaremos los operadores relaciones."
      ],
      "metadata": {
        "id": "RcNukyPPx-85"
      }
    },
    {
      "cell_type": "code",
      "source": [
        "#Realiza el ejercicio aquí\n",
        "a, b ="
      ],
      "metadata": {
        "id": "QxyzMIzGoyZW"
      },
      "execution_count": null,
      "outputs": []
    },
    {
      "cell_type": "markdown",
      "source": [
        "Los operadores lógicos son `and`, `or` o `not`."
      ],
      "metadata": {
        "id": "eS8LtYTlzB76"
      }
    },
    {
      "cell_type": "code",
      "source": [
        "#and\n",
        "\n",
        "\n",
        "#or\n",
        "\n",
        "\n",
        "#not"
      ],
      "metadata": {
        "id": "EJjzX51tzStX",
        "colab": {
          "base_uri": "https://localhost:8080/"
        },
        "outputId": "c9f9f1bb-8fe7-4452-e1bf-24c0cd9db22f"
      },
      "execution_count": 11,
      "outputs": [
        {
          "output_type": "stream",
          "name": "stdout",
          "text": [
            "True and True =  True\n",
            "True and False =  False\n",
            "False and False =  False\n",
            "\n",
            "\n",
            "True or True =  True\n",
            "True or False =  True\n"
          ]
        }
      ]
    },
    {
      "cell_type": "markdown",
      "source": [
        "# 4) Estructuras de Flujo"
      ],
      "metadata": {
        "id": "-Kj-wh41VcX_"
      }
    },
    {
      "cell_type": "markdown",
      "source": [
        "## `if`, `elif`, `else` statement"
      ],
      "metadata": {
        "id": "i2KNt2I9V1HV"
      }
    },
    {
      "cell_type": "code",
      "execution_count": null,
      "metadata": {
        "id": "O47nKj_4hArr"
      },
      "outputs": [],
      "source": [
        "if True:\n",
        "  pass\n",
        "\n",
        "if False:\n",
        "  pass"
      ]
    },
    {
      "cell_type": "code",
      "source": [
        "numero = \n",
        "\n",
        "if ...:\n",
        "    pass\n",
        "elif ...:\n",
        "    pass\n",
        "else:\n",
        "    pass"
      ],
      "metadata": {
        "id": "QXwY6nQLV3nK"
      },
      "execution_count": null,
      "outputs": []
    },
    {
      "cell_type": "markdown",
      "source": [
        "**Ejemplo:**\n",
        "\n",
        "Crearemos un programa que nos indicará si la cantidad de producto que hay en stock requiere hacer una solcitud de compra o no.\n",
        "Condiciones:\n",
        "\n",
        "- Si el producto es stock es mayor o igual a 100 y menos o igual a 1000, no necesitamos generar una solicitud de compra\n",
        "- Si el producto no cumple las condiciones, generar una solicitud de compra"
      ],
      "metadata": {
        "id": "rlN1KacQV-_h"
      }
    },
    {
      "cell_type": "code",
      "source": [
        "#Input del stock \n",
        "stock = \n",
        "\n",
        "#If-Else \n",
        "if ...:\n",
        "  pass\n",
        "\n",
        "else:\n",
        "  pass"
      ],
      "metadata": {
        "id": "-Ui_-Rp2WCxD"
      },
      "execution_count": null,
      "outputs": []
    },
    {
      "cell_type": "markdown",
      "source": [
        "## Bucle (Loops)"
      ],
      "metadata": {
        "id": "OIAfUKlNWFWw"
      }
    },
    {
      "cell_type": "markdown",
      "source": [
        "### `for` loops"
      ],
      "metadata": {
        "id": "lLzpR42EWKSQ"
      }
    },
    {
      "cell_type": "code",
      "source": [
        "for elemento in secuencia:\n",
        "    # Código a repetir para cada elemento"
      ],
      "metadata": {
        "id": "WR1BsxPDWJsL"
      },
      "execution_count": null,
      "outputs": []
    },
    {
      "cell_type": "markdown",
      "source": [
        "**Ejemplo:** Contamos con una secuencia de temperaturas medidas por un sistema de control de un *boiler* cada cierto tiempo durante todo el proceso realizado durante el día.\n",
        "\n",
        "Temperaturas -> 70, 68, 89, 93, 87, 45, 36, 56, 49\n",
        "\n",
        "- Cree una lista con los temperaturas dadas, `temp_boiler`\n",
        "- Luego, uso un `for` loop para recorrer cada temperatura dentro de la lista\n",
        "- Use un `if` para cumplir la condición de que sean solo las temperaturas mayores o iguales a 70°C \n",
        "- Por último, con la función `print()` muestre los elementos mayores a 70°C"
      ],
      "metadata": {
        "id": "MtvqWVL6WMwy"
      }
    },
    {
      "cell_type": "code",
      "source": [
        "temp_boiler = ... #Lista\n",
        "\n",
        "for ... in ...:\n",
        "  if ...:\n",
        "    pass"
      ],
      "metadata": {
        "id": "Y2H3MqnyWPka"
      },
      "execution_count": null,
      "outputs": []
    },
    {
      "cell_type": "markdown",
      "source": [
        "**Ejemplo:** Supongamos que estás realizando un experimento en el laboratorio para determinar si una sustancia química se encuentra en estado sólido, líquido o gaseoso a una determinada temperatura. Se te proporciona la temperatura en grados Celsius y debes determinar el estado de la sustancia según las siguientes condiciones:\n",
        "\n",
        "- Si la temperatura es igual o inferior a 0 grados, la sustancia está en estado sólido.\n",
        "- Si la temperatura está entre 0 y 100 grados, ambos inclusive, la sustancia está en estado líquido.\n",
        "- Si la temperatura es superior a 100 grados, la sustancia está en estado gaseoso.\n",
        "\n",
        "Escribe un programa en Python que solicite al usuario ingresar una temperatura en grados Celsius y determine el estado de la sustancia utilizando operadores relacionales."
      ],
      "metadata": {
        "id": "tFsxTDTb8GUj"
      }
    },
    {
      "cell_type": "code",
      "source": [
        "#Usar un print con input\n",
        "temperatura = \n",
        "\n",
        "if ...:\n",
        "    print(\"El estado de la sustancia es ...\")\n",
        "elif ...:\n",
        "    print(\"El estado de la sustancia es ...\")\n",
        "else:\n",
        "    print(\"El estado de la sustancia es ...\")\n"
      ],
      "metadata": {
        "id": "W-v6DLSXx4mg"
      },
      "execution_count": null,
      "outputs": []
    },
    {
      "cell_type": "markdown",
      "source": [
        "**Ejemplo:** Verificación de pureza\n",
        "\n",
        "En una planta de producción química, se necesita verificar la pureza de una muestra de producto. Se tiene una lista de valores de pureza obtenidos en diferentes análisis y se desea determinar si la muestra cumple con los estándares de calidad establecidos. Implementa un programa que tome como entrada una lista de valores de pureza y utilice un bucle for para verificar si alguno de los valores está por debajo del límite establecido. Si se encuentra un valor que no cumple con los estándares, el programa debe imprimir un mensaje indicando la necesidad de realizar ajustes en el proceso de producción.\n",
        "\n",
        "Valores de pureza = 0.98, 0.99, 0.97, 0.95, 0.96, 0.97, 0.91, 0.92, 0.93, 0.94, 0.95, 0.96, 0.97, 0.98, 0.99"
      ],
      "metadata": {
        "id": "Wr5t4jXVKXev"
      }
    },
    {
      "cell_type": "code",
      "source": [
        "# Definir la lista de valores de pureza\n",
        "\n",
        "\n",
        "# Definir el límite de pureza\n",
        "\n",
        "\n",
        "# Crear una lista para almacenar los valores que no cumplen con el límite de pureza\n",
        "\n",
        "\n",
        "# Verificar la pureza utilizando un bucle for\n",
        "\n",
        "# Imprimir los valores que no cumplen con el límite de pureza\n"
      ],
      "metadata": {
        "id": "xCDblkSpL8jC"
      },
      "execution_count": null,
      "outputs": []
    },
    {
      "cell_type": "markdown",
      "source": [
        "### `while` loops"
      ],
      "metadata": {
        "id": "Ib4xoF-OWTs_"
      }
    },
    {
      "cell_type": "code",
      "source": [
        "while condicion:\n",
        "    # Código a repetir mientras se cumpla la condición"
      ],
      "metadata": {
        "id": "EL8xuxPHWUKd"
      },
      "execution_count": null,
      "outputs": []
    },
    {
      "cell_type": "markdown",
      "source": [
        "**Ejemplo:**\n",
        "- Inicializa el contador en 0, `counter`\n",
        "- Crea un ciclo `while` y mientras en contador sea menor que 10, suma 1 al contador e imprime el contador con la función `print()`"
      ],
      "metadata": {
        "id": "qN6FIp8dWZsD"
      }
    },
    {
      "cell_type": "code",
      "source": [
        "#Inicia el contador en 0\n",
        "counter = \n",
        "\n",
        "#Mientras que el contador sea menor a 10, suma al contador +1\n",
        "while ...:\n",
        "  counter = ...\n",
        "  print(counter)"
      ],
      "metadata": {
        "id": "vDq-ZMOnWag6"
      },
      "execution_count": null,
      "outputs": []
    },
    {
      "cell_type": "markdown",
      "source": [
        "# Checkpoint:"
      ],
      "metadata": {
        "id": "ej6e88gqnh-e"
      }
    },
    {
      "cell_type": "markdown",
      "source": [
        "**Ejercicio:** \n",
        "Considera que un estudiante sólo puede graduarse si cumple las siguientes condiciones \n",
        "- Haber superado el 70% en sus calificaciones\n",
        "- Tiene una asistencia superior al 90%\n",
        "- No haber plagiado ni una sola vez durante el curso"
      ],
      "metadata": {
        "id": "qBN4J2z98w9B"
      }
    },
    {
      "cell_type": "code",
      "source": [
        "grades = \n",
        "attendance =\n",
        "has_plagiarized = \n",
        "\n",
        "#print(not has_plagiarized)\n",
        "\n",
        "if has_plagiarized is True:\n",
        "  print(\"\")\n",
        "\n",
        "successfully_graduated = \n",
        "\n",
        "#print(successfully_graduated)\n",
        "\n",
        "if successfully_graduated is False:\n",
        "  print(\"\")\n",
        "else:\n",
        "  print(\"\")"
      ],
      "metadata": {
        "id": "1T0h1v80nkAn"
      },
      "execution_count": null,
      "outputs": []
    }
  ]
}
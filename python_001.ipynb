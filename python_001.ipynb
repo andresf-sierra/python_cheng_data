{
  "nbformat": 4,
  "nbformat_minor": 0,
  "metadata": {
    "colab": {
      "provenance": [],
      "toc_visible": true,
      "collapsed_sections": [
        "-vXtVu7G3vw2",
        "4Dzpyde1imL3"
      ],
      "mount_file_id": "13LoWljYXw2L792QNaEqjhP4HSr1G_2E2",
      "authorship_tag": "ABX9TyNBERKdkADpGtr3XRqKqhjq"
    },
    "kernelspec": {
      "name": "python3",
      "display_name": "Python 3"
    },
    "language_info": {
      "name": "python"
    }
  },
  "cells": [
    {
      "cell_type": "markdown",
      "source": [
        "# **Introducción y Conceptos Básicos de Python**\n",
        "\n",
        "![logo](https://drive.google.com/uc?id=1w_6USra7FC_63pIQ0gPgeRkHGbeoZe3m)\n",
        "\n",
        "####  ***Ing. Andrés F. Sierra***\n"
      ],
      "metadata": {
        "id": "4N6oqjS30F9P"
      }
    },
    {
      "cell_type": "markdown",
      "source": [
        "# 1) Introducción a Google Colab\n",
        "\n",
        "\n",
        "**Colaboratory**, o mejor conocido como **Colab**, provee de un entorno interactivo a nivel de **archivo**. Dentro de él podrás **escribir** y **ejecutar código** python de una forma **sencilla** y **colaborativa** en tiempo real **sin** ninguna **configuración** extra.\n",
        "\n",
        "El componente de trabajo **clave** en **Colab** son los **notebooks**, también conocidos como libretas interactivas o bloc de notas. Un notebook es una herramienta en la que puedes combinar **código ejecutable** y **texto enriquecido** en un sólo lugar. Además, podrás incluir **imágenes**, **HTML**, **LaTeX** y mucho más.\n",
        "\n",
        "---"
      ],
      "metadata": {
        "id": "LLi_ePY11chh"
      }
    },
    {
      "cell_type": "markdown",
      "source": [
        "## Ejecución y edición de celdas\n",
        "\n",
        "###  Celdas de código\n",
        "\n",
        "A continuación encontrarás una **celda de código** en la que podrás ejecutar una sencilla instrucción en `Python`"
      ],
      "metadata": {
        "id": "dZfkrt7H1ys0"
      }
    },
    {
      "cell_type": "code",
      "source": [
        "#Imprimir un mensaje en Python, función print()"
      ],
      "metadata": {
        "id": "QyOyB_l92NBH"
      },
      "execution_count": null,
      "outputs": []
    },
    {
      "cell_type": "markdown",
      "source": [
        "Interactuar con las **celdas de código** es tan sencillo como dar clic en ella y presionar `Command/Ctrl + Enter`para **ejecutarla** y simplemente `escribir` para **editarla**."
      ],
      "metadata": {
        "id": "6lLn2QIC2Y2N"
      }
    },
    {
      "cell_type": "markdown",
      "source": [
        "> Edita, ejecuta, observa y repite. Ese es el ciclo de trabajo en los **notebooks**."
      ],
      "metadata": {
        "id": "qQMxGtiz2fhg"
      }
    },
    {
      "cell_type": "markdown",
      "source": [
        "---\n",
        "**Ejemplo:** Hagamos una conversión de unas sencillas unidades, números de segundos en un día.\n",
        "\n",
        "1. Crearemos una variable llamada `secs_per_day`\n",
        "2. Asignaremos a la variable `secs_per_day` la operación matemática que nos arroja el resultado requerido `60*60*24`\n",
        "3. Imprimiremos con la función `print()` el resultado"
      ],
      "metadata": {
        "id": "Vy9LPxbz2piT"
      }
    },
    {
      "cell_type": "code",
      "source": [
        "#Realiza el ejecicio aquí"
      ],
      "metadata": {
        "id": "9RmMgFTm3V1B"
      },
      "execution_count": null,
      "outputs": []
    },
    {
      "cell_type": "code",
      "source": [
        "print(f'Un día tiene {} segundos')"
      ],
      "metadata": {
        "id": "e1d3lFfZ2Zh0"
      },
      "execution_count": null,
      "outputs": []
    },
    {
      "cell_type": "markdown",
      "source": [
        "# 2) Introducción a Python (Crash)\n",
        "\n",
        "## Variables\n",
        "\n",
        "Los nombres de las variables en Python pueden contener caracteres alfanuméricos a-z, A-Z, 0-9 y algunos caracteres especiales como _. Los nombres de las variables deben comenzar con una letra.\n",
        "\n",
        "Entre las características más destacables de las sesiones interactivas dentro de los notebooks es que las variables que definas en una celda pueden ser utilizadas después en otras:\n",
        "\n",
        "**Ejemplo:** Asignemos a una variable llamada `temp_init` (temperatura inicial) el valor de 25°C.\n",
        "\n",
        "- Crea una variable llamada `temp_init`\n",
        "- Usa el operador de asignación `=` y asigna el valor de `25`\n",
        "- Imprime el valor que contiene la variable `temp_init`"
      ],
      "metadata": {
        "id": "-vXtVu7G3vw2"
      }
    },
    {
      "cell_type": "code",
      "source": [
        "#Realiza tu ejercicio aquí"
      ],
      "metadata": {
        "id": "phd7Fjvg36PH"
      },
      "execution_count": null,
      "outputs": []
    },
    {
      "cell_type": "markdown",
      "source": [
        "## Tipos de Datos\n",
        "Categorizan y representan diferentes tipos de información.\n",
        "\n",
        "**Ejemplo:** Presentate con un código de Python\n",
        "- Asigna un `string` a las variables `name`, `last_name` y un `int` a `age` que contengan tu nombre, apellido y edad, respectivamente.\n",
        "- También agrega una cadena de texto (`string`) que contenga tu título de grado, `degree`\n",
        "- Crea una variable llamada `full_info` y en un `format` (`f''`) agrega toda tu presentación.\n",
        "- Por último, imprime la información asignada a la variable `full_info`"
      ],
      "metadata": {
        "id": "tdxMMhH8Bjcf"
      }
    },
    {
      "cell_type": "code",
      "source": [
        "#Contiene variable de nombre, apellido y edad\n",
        "name = \"\"\n",
        "last_name = \"\"\n",
        "age = \n",
        "\n",
        "#Contiene variable con el título profesional\n",
        "degree = \"\" \n",
        "\n",
        "#String format\n",
        "full_info = f\"Hi, my full name is {} {}, I have {} years old and I'm a {}\"\n",
        "print()"
      ],
      "metadata": {
        "id": "eKI6GpOzBohH"
      },
      "execution_count": null,
      "outputs": []
    },
    {
      "cell_type": "markdown",
      "source": [
        "## Operadores aritméticos\n",
        "\n",
        "Permiten realizar cálculos y manipular valores numéricos\n",
        "\n",
        "**La regla financiera de 50 - 30 - 20**\n",
        "\n",
        "Una forma sencilla de crear un presupuesto es dividir tus ingresos en tres categorías: tus necesidades, tus gastos personales y tus ahorros."
      ],
      "metadata": {
        "id": "7d3_OsRkE3F3"
      }
    },
    {
      "cell_type": "code",
      "source": [
        "#Esta variable contiene la media de mi presupuesto mensual (USD)\n",
        "monthly_budget = ...\n",
        "\n",
        "#Utilizar la regla presupuestaria 50/30/20 para controlar las finanzas\n",
        "needs = (...) / 100\n",
        "\n",
        "wants = (...) / 100\n",
        "\n",
        "savings = (...) / 100\n",
        "\n",
        "#Imprimir un mensaje que explique mi presupuesto mensual utilizando la regla presupuestaria 50/30/20\n",
        "my_budget = f\"\"\"Como Ingeniero Químico, gano ${}. \n",
        "Debería utilizar ${} para todo lo que necesito, ${} para todo lo que quiero y ahorrar ${} mensualmente.\"\"\"\n",
        "print()\n"
      ],
      "metadata": {
        "id": "H80j0yP_E5cI"
      },
      "execution_count": null,
      "outputs": []
    },
    {
      "cell_type": "markdown",
      "source": [
        "# Checkpoint"
      ],
      "metadata": {
        "id": "at0iVasWEzTh"
      }
    },
    {
      "cell_type": "markdown",
      "source": [
        "### Cálculo de punto de rocío y burbuja (Parte 1)\n",
        "\n",
        "Vamos a encontrar en punto de burbuja dada una temperatura, T = 70 °C.\n",
        "\n",
        "Contamos con un sistema de dos especies (Acetona-Agua), dónde la fracción líquida de acetona ($x_{1}$) es de 0.25 (o 25% molar) y la fracción líquida para el agua ($x_{2}$) es de $1-x_{1}$\n",
        "\n",
        "**[Constante de Antoine - Acetona](https://ceta.zaragoza.unam.mx/wp-content/recursosi/calculadoras/constantes-de-antonio/constantes-de-antonio.htm) (*mmHg, °C*):**\n",
        "\n",
        "A = 7.1171 \n",
        "\n",
        "B = 1210.595\n",
        "\n",
        "C = 229.664\n",
        "\n",
        "**[Constante de Antoine - Agua](https://ceta.zaragoza.unam.mx/wp-content/recursosi/calculadoras/constantes-de-antonio/constantes-de-antonio.htm) (*mmHg, °C*):**\n",
        "\n",
        "A = 8.0713 \n",
        "\n",
        "B = 1730.63\n",
        "\n",
        "C = 229.6646\n",
        "\n",
        "**Punto de Burbuja:**\n",
        "\n",
        "$P = \\sum_{i=1}^{n}p_{i0}*x_{i}$\n",
        "\n",
        "$y_{i} = \\frac{p_{i0}*x_{i}}{P}$\n",
        "\n",
        "**Punto de Rocío:**\n",
        "\n",
        "$P = \\frac{1}{\\sum_{i=1}^{n}\\frac{y_{i}}{p_{i0}}}$\n",
        "\n",
        "$x_{i} = \\frac{P*y_{i}}{p_{i0}}$\n",
        "\n",
        "**Ecuación de Antoine:**\n",
        "\n",
        "$\\log(P) = A - \\frac{B}{C+T}$\n",
        "\n",
        "$P = 10^{(A - \\frac{B}{C+T})}$\n",
        "\n",
        "Dónde A, B y C son constantes de Antoine y T la temperatura del sistema"
      ],
      "metadata": {
        "id": "Et2lWX1PFUFR"
      }
    },
    {
      "cell_type": "code",
      "source": [
        "#PUNTO DE BURBUJA\n",
        "#Cte Antoine Acetona\n",
        "a1 = \n",
        "b1 = \n",
        "c1 =\n",
        "#Cte Antoine Agua \n",
        "a2 =\n",
        "b2 =\n",
        "c2 =\n",
        "\n",
        "#Fracciones molar líquida\n",
        "x1 = \n",
        "x2 = \n",
        "\n",
        "#Temperatura  \n",
        "temp = \n",
        "\n",
        "#Presiones de vapor (Hacer conversión 101.325 [kPa]/760 [mmHg])\n",
        "presion_vap_1 = \n",
        "presion_vap_2 = \n",
        "\n",
        "#Presion total del sistema\n",
        "presion = \n",
        "print(presion)\n",
        "\n",
        "# Fracción molar vapor\n",
        "\n",
        "y1 = \n",
        "y2 = \n",
        "y = y1 + y2\n",
        "\n",
        "#Imprimimos las fracciones de vapor y presiones de vapor\n",
        "print(y1,y2,y)\n",
        "print(presion_vap_1, presion_vap_2)"
      ],
      "metadata": {
        "id": "tSoEieC_E4hr"
      },
      "execution_count": null,
      "outputs": []
    },
    {
      "cell_type": "markdown",
      "source": [
        "# 3. Estructuras de Control de Flujos"
      ],
      "metadata": {
        "id": "4Dzpyde1imL3"
      }
    },
    {
      "cell_type": "markdown",
      "source": [
        "## `if`, `elif`, `else` statement"
      ],
      "metadata": {
        "id": "mLwOLLCtJ_9a"
      }
    },
    {
      "cell_type": "code",
      "source": [
        "if True:\n",
        "  print(...)\n",
        "\n",
        "if False:\n",
        "  print(...)"
      ],
      "metadata": {
        "id": "MT7KJFPIHDMz"
      },
      "execution_count": null,
      "outputs": []
    },
    {
      "cell_type": "code",
      "source": [
        "numero = ...\n",
        "\n",
        "if ...:\n",
        "    print(\"Es mayor a 5\")\n",
        "elif ...:\n",
        "    print(\"Es igual a 5\")\n",
        "else:\n",
        "    print(\"Es menor a 5\")  "
      ],
      "metadata": {
        "id": "1f-q0isQKciw"
      },
      "execution_count": null,
      "outputs": []
    },
    {
      "cell_type": "markdown",
      "source": [
        "**Ejemplo:**\n",
        "\n",
        "Crearemos un programa que nos indicará si la cantidad de producto que hay en stock requiere hacer una solcitud de compra o no.\n",
        "Condiciones:\n",
        "\n",
        "- Si el producto es stock es mayor o igual a 100 y menos o igual a 1000, no necesitamos generar una solicitud de compra\n",
        "- Si el producto no cumple las condiciones, generar una solicitud de compra"
      ],
      "metadata": {
        "id": "JuJ1aU0PFQra"
      }
    },
    {
      "cell_type": "code",
      "source": [
        "#Input del stock \n",
        "stock = \n",
        "\n",
        "#If-Else \n",
        "if ...:\n",
        "  pass\n",
        "\n",
        "else:\n",
        "  pass"
      ],
      "metadata": {
        "id": "LimOTb6siutr"
      },
      "execution_count": null,
      "outputs": []
    },
    {
      "cell_type": "markdown",
      "source": [
        "## Bucles (Loops)"
      ],
      "metadata": {
        "id": "2W54A-f8MRQM"
      }
    },
    {
      "cell_type": "markdown",
      "source": [
        "### `for` loops"
      ],
      "metadata": {
        "id": "Rds7CQzgOBgQ"
      }
    },
    {
      "cell_type": "code",
      "source": [
        "for elemento in secuencia:\n",
        "    # Código a repetir para cada elemento"
      ],
      "metadata": {
        "id": "28FlTZiAMT2m"
      },
      "execution_count": null,
      "outputs": []
    },
    {
      "cell_type": "markdown",
      "source": [
        "**Ejemplo:** Contamos con una secuencia de temperaturas medidas por un sistema de control de un *boiler* cada cierto tiempo durante todo el proceso realizado durante el día.\n",
        "\n",
        "Temperaturas -> 70, 68, 89, 93, 87, 45, 36, 56, 49\n",
        "\n",
        "- Cree una lista con los temperaturas dadas, `temp_boiler`\n",
        "- Luego, uso un `for` loop para recorrer cada temperatura dentro de la lista\n",
        "- Use un `if` para cumplir la condición de que sean solo las temperaturas mayores a 70°C \n",
        "- Por último, con la función `print()` muestre los elementos mayores a 70°C"
      ],
      "metadata": {
        "id": "7aR2OXJMR4cq"
      }
    },
    {
      "cell_type": "code",
      "source": [
        "temp_boiler = [...]\n",
        "\n",
        "for ... in ...:\n",
        "  if ...:\n",
        "    print()"
      ],
      "metadata": {
        "colab": {
          "base_uri": "https://localhost:8080/"
        },
        "id": "Hs8_LKOiRk7M",
        "outputId": "22b8444f-0cad-4849-ac06-118dee1fa21e"
      },
      "execution_count": 11,
      "outputs": [
        {
          "output_type": "stream",
          "name": "stdout",
          "text": [
            "89\n",
            "93\n",
            "87\n"
          ]
        }
      ]
    },
    {
      "cell_type": "markdown",
      "source": [
        "### `while` loops"
      ],
      "metadata": {
        "id": "2bFfhsHjOHDg"
      }
    },
    {
      "cell_type": "code",
      "source": [
        "while condicion:\n",
        "    # Código a repetir mientras se cumpla la condición"
      ],
      "metadata": {
        "id": "xLD52kLcOJ_7"
      },
      "execution_count": null,
      "outputs": []
    },
    {
      "cell_type": "markdown",
      "source": [
        "**Ejemplo:**\n",
        "- Inicializa el contador en 0, `counter`\n",
        "- Crea un ciclo `while` y mientras en contador sea menor que 10, suma 1 al contador e imprime el contador con la función `print()`"
      ],
      "metadata": {
        "id": "2SnFuFcXUyx8"
      }
    },
    {
      "cell_type": "code",
      "source": [
        "#Inicia el contador en 0\n",
        "counter = \n",
        "\n",
        "#Mientras que el contador sea menor a 10, suma al contador +1\n",
        "while ...:\n",
        "  counter = ...\n",
        "  print(counter)"
      ],
      "metadata": {
        "id": "0_t76j3tQ8sG"
      },
      "execution_count": null,
      "outputs": []
    }
  ]
}